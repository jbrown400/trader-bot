{
 "cells": [
  {
   "cell_type": "code",
   "execution_count": 1,
   "metadata": {},
   "outputs": [
    {
     "data": {
      "text/html": [
       "<div>\n",
       "<style scoped>\n",
       "    .dataframe tbody tr th:only-of-type {\n",
       "        vertical-align: middle;\n",
       "    }\n",
       "\n",
       "    .dataframe tbody tr th {\n",
       "        vertical-align: top;\n",
       "    }\n",
       "\n",
       "    .dataframe thead th {\n",
       "        text-align: right;\n",
       "    }\n",
       "</style>\n",
       "<table border=\"1\" class=\"dataframe\">\n",
       "  <thead>\n",
       "    <tr style=\"text-align: right;\">\n",
       "      <th></th>\n",
       "      <th>symbol</th>\n",
       "      <th>price</th>\n",
       "      <th>another</th>\n",
       "    </tr>\n",
       "    <tr>\n",
       "      <th>timestamp</th>\n",
       "      <th></th>\n",
       "      <th></th>\n",
       "      <th></th>\n",
       "    </tr>\n",
       "  </thead>\n",
       "  <tbody>\n",
       "    <tr>\n",
       "      <th>1</th>\n",
       "      <td>CCL</td>\n",
       "      <td>100.0</td>\n",
       "      <td>NaN</td>\n",
       "    </tr>\n",
       "    <tr>\n",
       "      <th>2</th>\n",
       "      <td>CCL</td>\n",
       "      <td>4.0</td>\n",
       "      <td>NaN</td>\n",
       "    </tr>\n",
       "    <tr>\n",
       "      <th>3</th>\n",
       "      <td>CCL</td>\n",
       "      <td>300.0</td>\n",
       "      <td>NaN</td>\n",
       "    </tr>\n",
       "    <tr>\n",
       "      <th>4</th>\n",
       "      <td>NaN</td>\n",
       "      <td>NaN</td>\n",
       "      <td>hi</td>\n",
       "    </tr>\n",
       "  </tbody>\n",
       "</table>\n",
       "</div>"
      ],
      "text/plain": [
       "          symbol  price another\n",
       "timestamp                      \n",
       "1            CCL  100.0     NaN\n",
       "2            CCL    4.0     NaN\n",
       "3            CCL  300.0     NaN\n",
       "4            NaN    NaN      hi"
      ]
     },
     "execution_count": 1,
     "metadata": {},
     "output_type": "execute_result"
    }
   ],
   "source": [
    "import pandas as pd\n",
    "\n",
    "data = {'timestamp': ['1', '2', '3'],\n",
    "        'symbol': ['CCL', 'CCL', 'CCL'],\n",
    "        'price': [100, 200, 300]}\n",
    "\n",
    "df = pd.DataFrame(data, columns = ['timestamp', 'symbol', 'price'])\n",
    "\n",
    "\n",
    "df = df.set_index('timestamp')\n",
    "\n",
    "df\n",
    "\n",
    "df.at['2', 'price'] = 4\n",
    "df.at['4', 'another'] = 'hi'\n",
    "\n",
    "df"
   ]
  },
  {
   "cell_type": "code",
   "execution_count": null,
   "metadata": {},
   "outputs": [],
   "source": [
    "response = {\n",
    "            'data': [\n",
    "                {\n",
    "                    'command': 'SUBS',\n",
    "                    'content': [\n",
    "                        {  \n",
    "                            '1': 13.8,\n",
    "                           '10': 48059,\n",
    "                           '11': 48061,\n",
    "                           '12': 14.14,\n",
    "                           '13': 13.72,\n",
    "                           '14': ' ',\n",
    "                           '2': 13.81,\n",
    "                           '3': 13.8001,\n",
    "                           '4': 15,\n",
    "                           '5': 44,\n",
    "                           '6': 'N',\n",
    "                           '7': 'N',\n",
    "                           '8': 13128063,\n",
    "                           '9': 1,\n",
    "                           'assetMainType': 'EQUITY',\n",
    "                           'cusip': '143658300',\n",
    "                           'delayed': False,\n",
    "                           'key': 'CCL'\n",
    "                        }],\n",
    "                    'service': 'QUOTE',\n",
    "                    'timestamp': 1604686862306\n",
    "                }\n",
    "            ]\n",
    "}\n",
    "\n"
   ]
  },
  {
   "cell_type": "code",
   "execution_count": null,
   "metadata": {},
   "outputs": [],
   "source": []
  },
  {
   "cell_type": "code",
   "execution_count": null,
   "metadata": {},
   "outputs": [],
   "source": []
  }
 ],
 "metadata": {
  "kernelspec": {
   "display_name": "Python 3",
   "language": "python",
   "name": "python3"
  },
  "language_info": {
   "codemirror_mode": {
    "name": "ipython",
    "version": 3
   },
   "file_extension": ".py",
   "mimetype": "text/x-python",
   "name": "python",
   "nbconvert_exporter": "python",
   "pygments_lexer": "ipython3",
   "version": "3.8.6"
  }
 },
 "nbformat": 4,
 "nbformat_minor": 4
}
